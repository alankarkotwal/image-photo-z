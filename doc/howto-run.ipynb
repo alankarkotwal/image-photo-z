{
 "metadata": {
  "name": "Untitled0"
 }, 
 "nbformat": 2, 
 "worksheets": [
  {
   "cells": [
    {
     "cell_type": "code", 
     "collapsed": true, 
     "input": [], 
     "language": "python", 
     "outputs": []
    }
   ]
  }
 ]
}