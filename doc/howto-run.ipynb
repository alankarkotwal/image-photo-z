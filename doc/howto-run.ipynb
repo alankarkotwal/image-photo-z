{
 "metadata": {
  "name": "howto-run"
 }, 
 "nbformat": 2, 
 "worksheets": [
  {
   "cells": [
    {
     "cell_type": "markdown", 
     "source": [
      "A how-to to running image-photo-z", 
      "=", 
      "", 
      "## Installation:", 
      "Installing the dependencies and cloning the repository is enough to set up the environment to run the package. For installing the dependencies, the setup-deps script provided in the root folder of the package should work on a system that can use apt-get. You need administrator priviledges to run this script. Run it as follows on the system shell."
     ]
    }, 
    {
     "cell_type": "code", 
     "collapsed": false, 
     "input": [
      "cd image-photo-z/"
     ], 
     "language": "python", 
     "outputs": [
      {
       "output_type": "stream", 
       "stream": "stdout", 
       "text": [
        "/home/aloo/image-photo-z"
       ]
      }
     ], 
     "prompt_number": 6
    }, 
    {
     "cell_type": "code", 
     "collapsed": true, 
     "input": [
      "./setup-deps.sh"
     ], 
     "language": "python", 
     "outputs": []
    }, 
    {
     "cell_type": "markdown", 
     "source": [
      "If for some reason you are not able to or do not wish to run the setup script, here is a list of dependencies that need to be installed", 
      "<ul>", 
      "    <li>Python >=v2.7. python-dev, the development package, needs to be installed as well.", 
      "    <li>Numpy >=v1.6.1", 
      "    ", 
      "</ul>"
     ]
    }, 
    {
     "cell_type": "markdown", 
     "source": [
      "## Running the pipeline:  ", 
      "", 
      "Using the main file with an appropriate config file is the most straightforward way to run the pipeline end-to-end.  ", 
      "Here, you have two options, depending on whether you want to or not to use MPI.", 
      "", 
      "1) Not using MPI: If you cannot or do not wish to use MPI, the executable main.py is to be run on the system shell, as follows:  "
     ]
    }, 
    {
     "cell_type": "code", 
     "collapsed": false, 
     "input": [
      "cd image-photo-z"
     ], 
     "language": "python", 
     "outputs": [
      {
       "output_type": "stream", 
       "stream": "stdout", 
       "text": [
        "/home/aloo/image-photo-z"
       ]
      }
     ], 
     "prompt_number": 4
    }, 
    {
     "cell_type": "markdown", 
     "source": [
      "Note that the path after the cd should be the path to _your local image-photo-z installation_. Mine is installed at /home/aloo/image-photo-z, so its where it is. Once this is done, just run the main on the shell as follows:"
     ]
    }, 
    {
     "cell_type": "code", 
     "collapsed": true, 
     "input": [
      "python main.py"
     ], 
     "language": "python", 
     "outputs": []
    }, 
    {
     "cell_type": "markdown", 
     "source": [
      "This _should_ get the code running. If you do get any errors at this stage, **do report them**."
     ]
    }
   ]
  }
 ]
}