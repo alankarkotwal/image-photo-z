{
 "metadata": {
  "name": "howto-run"
 }, 
 "nbformat": 2, 
 "worksheets": [
  {
   "cells": [
    {
     "cell_type": "markdown", 
     "source": [
      "A how-to to running image-photo-z", 
      "=", 
      "___", 
      "", 
      "_A guide to installation and running the package with the main file_", 
      "", 
      "## Installation:", 
      "Installing the dependencies and cloning the repository is enough to set up the environment to run the package. For installing the dependencies, the setup-deps script provided in the root folder of the package should work on a system that can use apt-get. You need administrator priviledges to run this script. Run it as follows on the system shell."
     ]
    }, 
    {
     "cell_type": "code", 
     "collapsed": false, 
     "input": [
      "cd image-photo-z/"
     ], 
     "language": "python", 
     "outputs": [
      {
       "output_type": "stream", 
       "stream": "stdout", 
       "text": [
        "/home/aloo/image-photo-z"
       ]
      }
     ], 
     "prompt_number": 6
    }, 
    {
     "cell_type": "code", 
     "collapsed": true, 
     "input": [
      "./setup-deps.sh"
     ], 
     "language": "python", 
     "outputs": []
    }, 
    {
     "cell_type": "markdown", 
     "source": [
      "If for some reason you are not able to or do not wish to run the setup script, here is a list of dependencies (in order of their requirement for the pipeline) that need to be installed. Unless mentioned, it is best to install dependencies in their default locations using the standard installer provided or the standard package management for your system", 
      "<ul>", 
      "    <li>Python >= v2.7. python-dev, the development package, needs to be installed as well.</li>", 
      "    <li>Numpy >= v1.6.1</li>", 
      "    <li>Astropy >= v0.3.2</li>", 
      "    <li>Montage Image Mosaic Software >= v3.3. Best installed by downloading and compiling the source package with GNU Make.</li>", 
      "    <li>montage_wrapper >= v0.9.7</li>", 
      "    <li>SExtractor >= v2.19.5. In my experience, gives trouble if installed via any source other than the rpm package on the Astromatic website.</li>", 
      "    <li>Scikit-learn >= v0.15.0b1</li>", 
      "</ul>", 
      "", 
      "The procedure for compiling source packages using make is the following, on the system shell:"
     ]
    }, 
    {
     "cell_type": "code", 
     "collapsed": true, 
     "input": [
      "cd [package-name]        # This is the root directory for the source package. "
     ], 
     "language": "python", 
     "outputs": []
    }, 
    {
     "cell_type": "code", 
     "collapsed": true, 
     "input": [
      "cmake . [OR] ./configure # This depends on the package. If it contains a configure file, use ./configure."
     ], 
     "language": "python", 
     "outputs": []
    }, 
    {
     "cell_type": "code", 
     "collapsed": true, 
     "input": [
      "make                     # This compiles the package"
     ], 
     "language": "python", 
     "outputs": []
    }, 
    {
     "cell_type": "code", 
     "collapsed": true, 
     "input": [
      "sudo make install        # Optional, need admin priviledges for this. Places binaries in their default positions."
     ], 
     "language": "python", 
     "outputs": []
    }, 
    {
     "cell_type": "markdown", 
     "source": [
      "For installing via rpm you need the rpm package management software. Once you have that, you do"
     ]
    }, 
    {
     "cell_type": "code", 
     "collapsed": true, 
     "input": [
      "sudo rpm -i [package-name].rpm"
     ], 
     "language": "python", 
     "outputs": []
    }, 
    {
     "cell_type": "markdown", 
     "source": [
      "## Creating the config file", 
      "", 
      "The config file is the set of input parameters to the code. Most parameter names are self-explanatory. They are explained here for completeness:", 
      "For yes/no parameters, specify 'yes' or 'no' without the quotes. This is **case-sensitive**. For an explanation of what the files described below are, refer to the \"Getting to know the pipeline\" document.", 
      "", 
      "* IMAGE_PHOTOZ_PATH: This is the path to your local image-photo-z installation. My value for this is /home/aloo/image-photo-z.<br /><br />", 
      "* USE_MPI: Set this to yes if you want to use MPI for the computation.<br /><br />", 
      "* N_PROCESSORS: Set this to the number of processors you want to use, if using MPI.<br /><br />", 
      "* TRAINING_CATALOG: The object catalog file for training objects. This file must be in a specified format as shown in the example catalog file one_square_degree.csv provided with the package. For more information on generating this file see the 'Generating the catalogs' subsection below the 'Running the pipeline' section.<br /><br />", 
      "* TESTING_CATALOG: The object catalog file for testing objects. This is similar to the earlier file.<br ><br />", 
      "* TRAINING_CATALOG_PROCESSED: The name of the processed catalog file generated by the program.<br /><br />", 
      "* TESTING_CATALOG_PROCESSED: The name of the processed catalog file generated by the program.<br /><br />", 
      "", 
      "Note that in case of directories, do **NOT** put a '/' at the end of the parameter. The code does this automatically. Also, do **NOT** delete any entry from the config file, even if it is irrelevant to the configuration. This is done to prevent possible KeyErrors."
     ]
    }, 
    {
     "cell_type": "markdown", 
     "source": [
      "## Running the pipeline:  ", 
      "", 
      "Using the main file with an appropriate config file is the most straightforward way to run the pipeline end-to-end.  ", 
      "Here, you have two options, depending on whether you want to or not to use MPI.", 
      "", 
      "1) Not using MPI: If you cannot or do not wish to use MPI, the executable main.py is to be run on the system shell, as follows:  "
     ]
    }, 
    {
     "cell_type": "code", 
     "collapsed": false, 
     "input": [
      "cd image-photo-z"
     ], 
     "language": "python", 
     "outputs": [
      {
       "output_type": "stream", 
       "stream": "stdout", 
       "text": [
        "/home/aloo/image-photo-z"
       ]
      }
     ], 
     "prompt_number": 4
    }, 
    {
     "cell_type": "markdown", 
     "source": [
      "Note that the path after the cd should be the path to _your local image-photo-z installation_. Mine is installed at /home/aloo/image-photo-z, so its where it is. Once this is done, just run the main on the shell as follows:"
     ]
    }, 
    {
     "cell_type": "code", 
     "collapsed": true, 
     "input": [
      "python main.py"
     ], 
     "language": "python", 
     "outputs": []
    }, 
    {
     "cell_type": "markdown", 
     "source": [
      "This runs the code with ./config.cfg as the config file. To specify a different config file run"
     ]
    }, 
    {
     "cell_type": "code", 
     "collapsed": true, 
     "input": [
      "python main.py [config-file-name]"
     ], 
     "language": "python", 
     "outputs": []
    }, 
    {
     "cell_type": "markdown", 
     "source": [
      "This _should_ get the code running. If you do get any errors at this stage, **do report them**.  ", 
      "", 
      "2) Using MPI: The file main-mpi.py needs to be run with mpirun in this case. Make sure that the N_PROCESSORS variable is set to the number of processors you are willing to allocate to the computation in the config file."
     ]
    }, 
    {
     "cell_type": "code", 
     "collapsed": true, 
     "input": [
      "mpirun -np [N_PROCESSORS] python main-mpi.py"
     ], 
     "language": "python", 
     "outputs": []
    }, 
    {
     "cell_type": "markdown", 
     "source": [
      "To specify a custom config file:"
     ]
    }, 
    {
     "cell_type": "code", 
     "collapsed": true, 
     "input": [
      "mpirun -np [N_PROCESSORS] python main-mpi.py [config-file-name]"
     ], 
     "language": "python", 
     "outputs": []
    }, 
    {
     "cell_type": "markdown", 
     "source": [
      "The run script in the root folder is already set to run this. To avoid the hassle of typing all this, you can run this instead:"
     ]
    }, 
    {
     "cell_type": "code", 
     "collapsed": true, 
     "input": [
      "./run"
     ], 
     "language": "python", 
     "outputs": []
    }, 
    {
     "cell_type": "markdown", 
     "source": [
      "_having made sure_ that N_PROCESSORS is set. This takes config.cfg as the config file."
     ]
    }, 
    {
     "cell_type": "markdown", 
     "source": [
      "The code _does not_ print anything out on the terminal except for th generating training data stage."
     ]
    }
   ]
  }
 ]
}