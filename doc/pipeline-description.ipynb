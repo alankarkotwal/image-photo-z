{
 "metadata": {
  "name": "pipeline-description"
 }, 
 "nbformat": 2, 
 "worksheets": [
  {
   "cells": [
    {
     "cell_type": "markdown", 
     "source": [
      "Getting to know the image-photo-z pipeline", 
      "=", 
      "___", 
      "", 
      "_image-photo-z_ is a pixel-level method for estimating photometric redshifts. The process from beginning to end involves a number of transformations and procedures on the images that are documented here. Wherever and whenever possible, the logic, implementation, validation and expressions for the stages in the pipeline are provided.", 
      "This file does **NOT** describe the API. See the API reference for more details regarding the API.", 
      "", 
      "## Getting the object catalog ready", 
      "", 
      "<p>For training the machine learning algorithm to be used, we need the </p>", 
      "", 
      "<p>As of now, the generation of the o</p>", 
      "", 
      "## Downloading images", 
      "", 
      "## Getting image errors", 
      "", 
      "## Image registration ", 
      "", 
      "## Generating training data from registered images", 
      "", 
      "## Training and testing", 
      "", 
      "## Viewing results"
     ]
    }
   ]
  }
 ]
}